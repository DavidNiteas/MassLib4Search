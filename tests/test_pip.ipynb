{
 "cells": [
  {
   "cell_type": "code",
   "execution_count": 1,
   "id": "0c8c5756",
   "metadata": {},
   "outputs": [],
   "source": [
    "from masslib4search.snaps.MassSearchTools.utils.search.embedding_similarity_search import similarity_search"
   ]
  },
  {
   "cell_type": "code",
   "execution_count": null,
   "id": "cf50efd8",
   "metadata": {},
   "outputs": [],
   "source": [
    "similarity_search"
   ]
  }
 ],
 "metadata": {
  "kernelspec": {
   "display_name": "MS310",
   "language": "python",
   "name": "python3"
  },
  "language_info": {
   "codemirror_mode": {
    "name": "ipython",
    "version": 3
   },
   "file_extension": ".py",
   "mimetype": "text/x-python",
   "name": "python",
   "nbconvert_exporter": "python",
   "pygments_lexer": "ipython3",
   "version": "3.10.13"
  }
 },
 "nbformat": 4,
 "nbformat_minor": 5
}
